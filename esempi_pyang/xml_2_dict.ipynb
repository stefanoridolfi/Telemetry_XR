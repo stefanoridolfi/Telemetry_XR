{
 "cells": [
  {
   "cell_type": "code",
   "execution_count": 23,
   "metadata": {},
   "outputs": [
    {
     "name": "stdout",
     "output_type": "stream",
     "text": [
      "k: @xmlns  v: urn:ietf:params:xml:ns:netconf:base:1.0\n",
      "k: routing  v: OrderedDict([('@xmlns', 'urn:ietf:params:xml:ns:yang:ietf-routing'), ('router-id', None), ('interfaces', OrderedDict([('interface', None)])), ('control-plane-protocols', OrderedDict([('control-plane-protocol', OrderedDict([('type', None), ('name', None), ('description', None), ('static-routes', None)]))])), ('ribs', OrderedDict([('rib', OrderedDict([('name', None), ('address-family', None), ('routes', OrderedDict([('route', OrderedDict([('route-preference', None), ('next-hop', OrderedDict([('outgoing-interface', None), ('special-next-hop', None), ('next-hop-list', OrderedDict([('next-hop', OrderedDict([('outgoing-interface', None)]))]))])), ('source-protocol', None), ('active', None), ('last-updated', None)]))])), ('description', None)]))]))])\n",
      "k: @xmlns  v: urn:ietf:params:xml:ns:yang:ietf-routing\n",
      "k: router-id  v: None\n",
      "k: interfaces  v: OrderedDict([('interface', None)])\n",
      "k: control-plane-protocols  v: OrderedDict([('control-plane-protocol', OrderedDict([('type', None), ('name', None), ('description', None), ('static-routes', None)]))])\n",
      "k: ribs  v: OrderedDict([('rib', OrderedDict([('name', None), ('address-family', None), ('routes', OrderedDict([('route', OrderedDict([('route-preference', None), ('next-hop', OrderedDict([('outgoing-interface', None), ('special-next-hop', None), ('next-hop-list', OrderedDict([('next-hop', OrderedDict([('outgoing-interface', None)]))]))])), ('source-protocol', None), ('active', None), ('last-updated', None)]))])), ('description', None)]))])\n",
      "k: routing-state  v: OrderedDict([('@xmlns', 'urn:ietf:params:xml:ns:yang:ietf-routing'), ('router-id', None), ('interfaces', OrderedDict([('interface', None)])), ('control-plane-protocols', OrderedDict([('control-plane-protocol', OrderedDict([('type', None), ('name', None)]))])), ('ribs', OrderedDict([('rib', OrderedDict([('name', None), ('address-family', None), ('routes', OrderedDict([('route', OrderedDict([('route-preference', None), ('next-hop', OrderedDict([('outgoing-interface', None), ('special-next-hop', None), ('next-hop-list', OrderedDict([('next-hop', OrderedDict([('outgoing-interface', None)]))]))])), ('source-protocol', None), ('active', None), ('last-updated', None)]))]))]))]))])\n",
      "k: @xmlns  v: urn:ietf:params:xml:ns:yang:ietf-routing\n",
      "k: router-id  v: None\n",
      "k: interfaces  v: OrderedDict([('interface', None)])\n",
      "k: control-plane-protocols  v: OrderedDict([('control-plane-protocol', OrderedDict([('type', None), ('name', None)]))])\n",
      "k: ribs  v: OrderedDict([('rib', OrderedDict([('name', None), ('address-family', None), ('routes', OrderedDict([('route', OrderedDict([('route-preference', None), ('next-hop', OrderedDict([('outgoing-interface', None), ('special-next-hop', None), ('next-hop-list', OrderedDict([('next-hop', OrderedDict([('outgoing-interface', None)]))]))])), ('source-protocol', None), ('active', None), ('last-updated', None)]))]))]))])\n"
     ]
    }
   ],
   "source": [
    "import xmltodict\n",
    "f=open(\"/root/esempi_pyang/ietf-routing.xml\",\"r\")\n",
    "#print(f.read())\n",
    "fdict=xmltodict.parse(f.read())\n",
    "for ele in fdict.values():\n",
    "    if isinstance(ele,dict):\n",
    "        for k,v in ele.items():\n",
    "            print(\"k:\",k,\" v:\",v)\n",
    "            if isinstance(v,dict):\n",
    "                for k,v in v.items():\n",
    "                     print(\"k:\",k,\" v:\",v)\n",
    "                \n",
    "            "
   ]
  },
  {
   "cell_type": "code",
   "execution_count": null,
   "metadata": {},
   "outputs": [],
   "source": []
  }
 ],
 "metadata": {
  "kernelspec": {
   "display_name": "Python 3",
   "language": "python",
   "name": "python3"
  },
  "language_info": {
   "codemirror_mode": {
    "name": "ipython",
    "version": 3
   },
   "file_extension": ".py",
   "mimetype": "text/x-python",
   "name": "python",
   "nbconvert_exporter": "python",
   "pygments_lexer": "ipython3",
   "version": "3.6.9"
  }
 },
 "nbformat": 4,
 "nbformat_minor": 4
}
