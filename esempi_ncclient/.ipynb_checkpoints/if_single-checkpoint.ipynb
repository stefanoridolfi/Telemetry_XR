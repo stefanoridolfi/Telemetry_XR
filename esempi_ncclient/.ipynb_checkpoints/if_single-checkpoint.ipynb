{
 "cells": [
  {
   "cell_type": "code",
   "execution_count": 1,
   "metadata": {},
   "outputs": [
    {
     "name": "stdout",
     "output_type": "stream",
     "text": [
      "get_config di:1.1.1.1\n",
      "<?xml version=\"1.0\"?>\n",
      "<rpc-reply message-id=\"urn:uuid:bc6b9661-e294-4d99-addc-23fb37339699\" xmlns:nc=\"urn:ietf:params:xml:ns:netconf:base:1.0\" xmlns=\"urn:ietf:params:xml:ns:netconf:base:1.0\">\n",
      " <data>\n",
      "  <interface-configurations xmlns=\"http://cisco.com/ns/yang/Cisco-IOS-XR-ifmgr-cfg\">\n",
      "   <interface-configuration>\n",
      "    <active>act</active>\n",
      "    <interface-name>GigabitEthernet0/0/0/0</interface-name>\n",
      "    <description>Giga0 test single IF Netconf</description>\n",
      "    <ipv4-network xmlns=\"http://cisco.com/ns/yang/Cisco-IOS-XR-ipv4-io-cfg\">\n",
      "     <addresses>\n",
      "      <primary>\n",
      "       <address>1.1.1.1</address>\n",
      "       <netmask>255.255.255.0</netmask>\n",
      "      </primary>\n",
      "     </addresses>\n",
      "    </ipv4-network>\n",
      "   </interface-configuration>\n",
      "  </interface-configurations>\n",
      " </data>\n",
      "</rpc-reply>\n",
      "\n"
     ]
    }
   ],
   "source": [
    "#!pip3 install ncclient\n",
    "from ncclient import manager\n",
    "from  lxml import etree\n",
    "interface='GigabitEthernet0/0/0/0'\n",
    "host='1.1.1.1'\n",
    "#if_filter = '''<interface-configurations xmlns=\"http://cisco.com/ns/yang/Cisco-IOS-XR-ifmgr-cfg\"/>'''\n",
    "#if_filter = '''<interfaces-state xmlns=\"urn:ietf:params:xml:ns:yang:ietf-interfaces\"/>'''\n",
    "\n",
    "\n",
    "if_filter = '''<interface-configurations xmlns=\"http://cisco.com/ns/yang/Cisco-IOS-XR-ifmgr-cfg\">\n",
    "   <interface-configuration>\n",
    "   <interface-name>GigabitEthernet0/0/0/0</interface-name>\n",
    "   </interface-configuration>\n",
    "   </interface-configurations>\n",
    "                                '''\n",
    "\n",
    "print(\"get_config di:\"+host)\n",
    "\n",
    "with manager.connect(host=host, port=830, username='admin', password='admin',hostkey_verify=False) as m:\n",
    "    c2=m.get_config(source='running', filter=('subtree', if_filter))\n",
    "print(c2)\n"
   ]
  },
  {
   "cell_type": "code",
   "execution_count": null,
   "metadata": {},
   "outputs": [],
   "source": []
  },
  {
   "cell_type": "code",
   "execution_count": null,
   "metadata": {},
   "outputs": [],
   "source": []
  }
 ],
 "metadata": {
  "kernelspec": {
   "display_name": "Python 3",
   "language": "python",
   "name": "python3"
  },
  "language_info": {
   "codemirror_mode": {
    "name": "ipython",
    "version": 3
   },
   "file_extension": ".py",
   "mimetype": "text/x-python",
   "name": "python",
   "nbconvert_exporter": "python",
   "pygments_lexer": "ipython3",
   "version": "3.6.9"
  }
 },
 "nbformat": 4,
 "nbformat_minor": 4
}
