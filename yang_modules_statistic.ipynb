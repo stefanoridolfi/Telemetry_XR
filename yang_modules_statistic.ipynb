{
  "nbformat": 4,
  "nbformat_minor": 0,
  "metadata": {
    "colab": {
      "name": "Untitled12.ipynb",
      "provenance": [],
      "authorship_tag": "ABX9TyOzX1tSlRhaV92eLewQVB3T",
      "include_colab_link": true
    },
    "kernelspec": {
      "name": "python3",
      "display_name": "Python 3"
    }
  },
  "cells": [
    {
      "cell_type": "markdown",
      "metadata": {
        "id": "view-in-github",
        "colab_type": "text"
      },
      "source": [
        "<a href=\"https://colab.research.google.com/github/stefanoridolfi/Telemetry_XR/blob/master/yang_modules_statistic.ipynb\" target=\"_parent\"><img src=\"https://colab.research.google.com/assets/colab-badge.svg\" alt=\"Open In Colab\"/></a>"
      ]
    },
    {
      "cell_type": "code",
      "metadata": {
        "colab": {
          "base_uri": "https://localhost:8080/"
        },
        "id": "e0E3uJvp_Lxs",
        "outputId": "7de80e14-ae1c-487b-8fd4-4908e3262293"
      },
      "source": [
        "import requests\n",
        "file_url='https://raw.githubusercontent.com/stefanoridolfi/Telemetry_XR/master/esempi_net-console/cisco.hello.output'\n",
        "r = requests.get(file_url)\n",
        "modules=list()\n",
        "cap=r.text\n",
        "lines=cap.split(\"</nc:capability>\")\n",
        "'''\n",
        "for k in range(1,len(lines)-2):\n",
        "  if \"wdsysmon\" in lines[k]:\n",
        "    print(lines[k]) \n",
        "'''\n",
        "\n",
        "for k in range(1,len(lines)-2):\n",
        " #print(k,\"linea 1 split\",lines[k].split())\n",
        "  #print(k,\"linea 2 split\",lines[k].split(\"<nc:capability>\")[1])\n",
        "  capa=lines[k].split(\"<nc:capability>\")[1]\n",
        "  if \"module\" in capa:\n",
        "    module=capa.split(\"module=\")\n",
        "    module1=module[1].split(\"&\")[0]\n",
        "    modules.append(module1)\n",
        "print(len(modules))\n",
        "yang_cisco=0\n",
        "yang_tel_cisco=0\n",
        "yang_dev_cisco=0\n",
        "yang_openconfig=0\n",
        "yang_ietf=0\n",
        "for elem in modules:\n",
        "    #print(elem)\n",
        "    if ((\"Cisco\" in elem) or (\"cisco\" in elem)) and (\"deviation\" not in elem):\n",
        "      #print(\"cisco module no deviation:\",elem)\n",
        "      yang_cisco+=1\n",
        "      if \"-oper\"in elem:\n",
        "        #print(\"cisco telemetry module:\",elem)\n",
        "        yang_tel_cisco+=1\n",
        "    if ((\"Cisco\" in elem) or (\"cisco\" in elem)) and (\"deviation\"  in elem):\n",
        "        #print(\"cisco deviation:\",elem)\n",
        "        yang_dev_cisco+=1\n",
        "    if (\"openconfig\" in elem) and (\"deviation\" not in elem):\n",
        "      #print(\"openconfig no deviation\",elem)\n",
        "      yang_openconfig+=1\n",
        "    if (\"ietf\" in elem) and (\"deviation\" not in elem):\n",
        "      print(\"ietf no deviation\",elem)\n",
        "      yang_ietf+=1\n",
        "\n",
        "\n",
        "print (\"Totale YANG pure Cisco modules\",yang_cisco )\n",
        "print (\"Totale YANG telementry pure Cisco modules\",yang_tel_cisco)\n",
        "print (\"Totale YANG Cisco modules deviation\",yang_dev_cisco)\n",
        "print (\"Totale YANG openconfig modules\",yang_openconfig)\n",
        "print (\"Totale YANG ietf modules\",yang_ietf)\n",
        "print(yang_cisco+yang_dev_cisco+yang_openconfig+yang_ietf)"
      ],
      "execution_count": 21,
      "outputs": [
        {
          "output_type": "stream",
          "text": [
            "519\n",
            "ietf no deviation ietf-netconf\n",
            "ietf no deviation ietf-syslog-types\n",
            "ietf no deviation ietf-netconf-monitoring\n",
            "ietf no deviation ietf-yang-types\n",
            "ietf no deviation ietf-netconf-acm\n",
            "ietf no deviation ietf-inet-types\n",
            "Totale YANG pure Cisco modules 424\n",
            "Totale YANG telementry pure Cisco modules 148\n",
            "Totale YANG Cisco modules deviation 20\n",
            "Totale YANG openconfig modules 44\n",
            "Totale YANG ietf modules 6\n",
            "494\n"
          ],
          "name": "stdout"
        }
      ]
    }
  ]
}