{
  "nbformat": 4,
  "nbformat_minor": 0,
  "metadata": {
    "colab": {
      "name": "Untitled12.ipynb",
      "provenance": [],
      "authorship_tag": "ABX9TyPmnGTlmQJnQpgLZ9P2wXo6",
      "include_colab_link": true
    },
    "kernelspec": {
      "name": "python3",
      "display_name": "Python 3"
    }
  },
  "cells": [
    {
      "cell_type": "markdown",
      "metadata": {
        "id": "view-in-github",
        "colab_type": "text"
      },
      "source": [
        "<a href=\"https://colab.research.google.com/github/stefanoridolfi/Telemetry_XR/blob/master/yang_modules_statistic.ipynb\" target=\"_parent\"><img src=\"https://colab.research.google.com/assets/colab-badge.svg\" alt=\"Open In Colab\"/></a>"
      ]
    },
    {
      "cell_type": "code",
      "metadata": {
        "colab": {
          "base_uri": "https://localhost:8080/"
        },
        "id": "e0E3uJvp_Lxs",
        "outputId": "d9b327ce-8925-4eca-9e72-f0b4c91209b3"
      },
      "source": [
        "import requests\n",
        "file_url='https://raw.githubusercontent.com/stefanoridolfi/Telemetry_XR/master/esempi_net-console/cisco.hello.output'\n",
        "r = requests.get(file_url)\n",
        "modules=list()\n",
        "cap=r.text\n",
        "lines=cap.split(\"</nc:capability>\")\n",
        "'''\n",
        "for k in range(1,len(lines)-2):\n",
        "  if \"wdsysmon\" in lines[k]:\n",
        "    print(lines[k]) \n",
        "'''\n",
        "\n",
        "for k in range(1,len(lines)-2):\n",
        " #print(k,\"linea 1 split\",lines[k].split())\n",
        "  #print(k,\"linea 2 split\",lines[k].split(\"<nc:capability>\")[1])\n",
        "  capa=lines[k].split(\"<nc:capability>\")[1]\n",
        "  if \"module\" in capa:\n",
        "    module=capa.split(\"module=\")\n",
        "    module1=module[1].split(\"&\")[0]\n",
        "    modules.append(module1)\n",
        "\n",
        "yang_cisco=0\n",
        "yang_tel_cisco=0\n",
        "yang_dev_cisco=0\n",
        "for elem in modules:\n",
        "    if ((\"Cisco\" in elem) or (\"cisco\" in elem)) and (\"deviation\" not in elem):\n",
        "      #print(\"cisco module:\",elem)\n",
        "      yang_cisco+=1\n",
        "      if \"-oper\"in elem:\n",
        "        #print(\"cisco telemetry module:\",elem)\n",
        "        yang_tel_cisco+=1\n",
        "    if ((\"Cisco\" in elem) or (\"cisco\" in elem)) and (\"deviation\"  in elem):\n",
        "        #print(\"cisco module:\",elem)\n",
        "        yang_dev_cisco+=1\n",
        "\n",
        "print (\"Totale YANG Cisco modules\",yang_cisco )\n",
        "print (\"Totale YANG telementry Cisco modules\",yang_cisco )\n",
        "print (\"Totale YANG telementry Cisco modules\",yang_tel_cisco)\n",
        "print (\"Totale YANG Cisco modules deviation\",yang_dev_cisco)"
      ],
      "execution_count": 40,
      "outputs": [
        {
          "output_type": "stream",
          "text": [
            "Totale YANG Cisco modules 424\n",
            "Totale YANG telementry Cisco modules 424\n",
            "Totale YANG telementry Cisco modules 148\n",
            "Totale YANG Cisco modules deviation 20\n"
          ],
          "name": "stdout"
        }
      ]
    }
  ]
}