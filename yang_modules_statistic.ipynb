{
  "nbformat": 4,
  "nbformat_minor": 0,
  "metadata": {
    "colab": {
      "name": "Untitled12.ipynb",
      "provenance": [],
      "authorship_tag": "ABX9TyMJvYzy+2bnosEuUBymViSZ",
      "include_colab_link": true
    },
    "kernelspec": {
      "name": "python3",
      "display_name": "Python 3"
    }
  },
  "cells": [
    {
      "cell_type": "markdown",
      "metadata": {
        "id": "view-in-github",
        "colab_type": "text"
      },
      "source": [
        "<a href=\"https://colab.research.google.com/github/stefanoridolfi/Telemetry_XR/blob/master/yang_modules_statistic.ipynb\" target=\"_parent\"><img src=\"https://colab.research.google.com/assets/colab-badge.svg\" alt=\"Open In Colab\"/></a>"
      ]
    },
    {
      "cell_type": "code",
      "metadata": {
        "colab": {
          "base_uri": "https://localhost:8080/"
        },
        "id": "e0E3uJvp_Lxs",
        "outputId": "c9b7a1ce-e4fa-4994-eec2-0e41659c1ce1"
      },
      "source": [
        "import requests\n",
        "file_url='https://raw.githubusercontent.com/stefanoridolfi/Telemetry_XR/master/esempi_net-console/cisco.hello.output'\n",
        "r = requests.get(file_url)\n",
        "modules=list()\n",
        "cap=r.text\n",
        "lines=cap.split(\"</nc:capability>\")\n",
        "for k in range(1,len(lines)-2):\n",
        " #print(k,\"linea 1 split\",lines[k].split())\n",
        "  #print(k,\"linea 2 split\",lines[k].split(\"<nc:capability>\")[1])\n",
        "  capa=lines[k].split(\"<nc:capability>\")[1]\n",
        "  if \"module\" in capa:\n",
        "    module=capa.split(\"module=\")\n",
        "    module1=module[1].split(\"&\")[0]\n",
        "    modules.append(module1)\n",
        "\n",
        "yang_cisco=0\n",
        "yang_tel_cisco=0\n",
        "yang_opc=0\n",
        "yang_tele_opc=0\n",
        "for elem in modules:\n",
        "    if ((\"Cisco\" in elem) or (\"cisco\" in elem)) and (\"deviation\" not in elem):\n",
        "      #print(\"cisco module:\",elem)\n",
        "      yang_cisco+=1\n",
        "      if \"-oper\"in elem:\n",
        "        #print(\"cisco telemetry module:\",elem)\n",
        "        yang_tel_cisco+=1\n",
        "    if ((\"Cisco\" in elem) or (\"cisco\" in elem)) and (\"deviation\"  in elem):\n",
        "        print(\"cisco module:\",elem)\n",
        "print (\"Totale YANG Cisco modules\",yang_cisco )\n",
        "print (\"Totale YANG telementry Cisco modules\",yang_cisco )\n",
        "print()"
      ],
      "execution_count": 19,
      "outputs": [
        {
          "output_type": "stream",
          "text": [
            "cisco module: cisco-xr-openconfig-transport-line-protection-deviations\n",
            "cisco module: cisco-xr-ietf-netconf-monitoring-deviations\n",
            "cisco module: cisco-xr-openconfig-rsvp-sr-ext-deviations\n",
            "cisco module: cisco-xr-ietf-netconf-acm-deviations\n",
            "cisco module: cisco-xr-openconfig-local-routing-deviations\n",
            "cisco module: cisco-xr-openconfig-routing-policy-deviations\n",
            "cisco module: cisco-xr-openconfig-network-instance-deviations\n",
            "cisco module: cisco-xr-openconfig-if-ip-deviations\n",
            "cisco module: cisco-xr-openconfig-rib-bgp-deviations\n",
            "cisco module: cisco-xr-openconfig-lldp-deviations\n",
            "cisco module: cisco-xr-openconfig-lacp-deviations\n",
            "cisco module: cisco-xr-openconfig-platform-deviations\n",
            "cisco module: cisco-xr-openconfig-vlan-deviations\n",
            "cisco module: cisco-xr-openconfig-telemetry-deviations\n",
            "cisco module: cisco-xr-openconfig-platform-transceiver-deviations\n",
            "cisco module: cisco-xr-openconfig-optical-amplifier-deviations\n",
            "cisco module: cisco-xr-openconfig-if-ethernet-deviations\n",
            "cisco module: cisco-xr-openconfig-acl-deviations\n",
            "cisco module: cisco-xr-openconfig-bgp-policy-deviations\n",
            "cisco module: cisco-xr-openconfig-interfaces-deviations\n",
            "Totale YANG Cisco modules 424\n",
            "Totale YANG telementry Cisco modules 424\n",
            "\n"
          ],
          "name": "stdout"
        }
      ]
    }
  ]
}